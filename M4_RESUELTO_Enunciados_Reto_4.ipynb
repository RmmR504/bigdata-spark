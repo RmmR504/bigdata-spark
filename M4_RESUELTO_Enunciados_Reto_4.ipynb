{
  "nbformat": 4,
  "nbformat_minor": 0,
  "metadata": {
    "colab": {
      "provenance": [],
      "include_colab_link": true
    },
    "kernelspec": {
      "name": "python3",
      "display_name": "Python 3"
    }
  },
  "cells": [
    {
      "cell_type": "markdown",
      "metadata": {
        "id": "view-in-github",
        "colab_type": "text"
      },
      "source": [
        "<a href=\"https://colab.research.google.com/github/RmmR504/bigdata-spark/blob/main/M4_RESUELTO_Enunciados_Reto_4.ipynb\" target=\"_parent\"><img src=\"https://colab.research.google.com/assets/colab-badge.svg\" alt=\"Open In Colab\"/></a>"
      ]
    },
    {
      "cell_type": "markdown",
      "metadata": {
        "id": "ZbJ9DCTULFZr"
      },
      "source": [
        "**MÓDULO 4 - PLATAFORMAS DE VISUALIZACIÓN**\n",
        "\n",
        "---\n",
        "\n",
        "**SESIÓN: Aplica en el trabajo**"
      ]
    },
    {
      "cell_type": "markdown",
      "metadata": {
        "id": "oPjcEgo-OAlc"
      },
      "source": [
        "NOMBRE: RONEY MAURICIO MOLINA"
      ]
    },
    {
      "cell_type": "markdown",
      "metadata": {
        "id": "s2z5UWllJfaV"
      },
      "source": [
        "1.\tGenera una libreta en Google Colab para el reto, cuya estructura esté basada en los análisis solicitados."
      ]
    },
    {
      "cell_type": "code",
      "metadata": {
        "id": "eOVDmi-44VMK"
      },
      "source": [
        "import pandas as pd\n",
        "import seaborn as sns\n",
        "import matplotlib.pyplot as plt"
      ],
      "execution_count": null,
      "outputs": []
    },
    {
      "cell_type": "markdown",
      "metadata": {
        "id": "dCXbtCcWJbi1"
      },
      "source": [
        "2.\tDescarga el archivo: Employees.csv y guarda, en un dataframe (`employees`), todos sus registros."
      ]
    },
    {
      "cell_type": "code",
      "metadata": {
        "id": "HPwqPSO-N5Mm",
        "colab": {
          "base_uri": "https://localhost:8080/",
          "height": 522
        },
        "outputId": "03769f13-8ec9-4bd6-804f-3ba4c39930b6"
      },
      "source": [
        "employees = pd.read_csv('/content/sample_data/Employees.csv')\n",
        "employees"
      ],
      "execution_count": null,
      "outputs": [
        {
          "output_type": "execute_result",
          "data": {
            "text/plain": [
              "     Employee_ID Gender   Age  Education_Level Relationship_Status  \\\n",
              "0      EID_23371      F  42.0                4             Married   \n",
              "1      EID_18000      M  24.0                3              Single   \n",
              "2       EID_3891      F  58.0                3             Married   \n",
              "3      EID_17492      F  26.0                3              Single   \n",
              "4      EID_22534      F  31.0                1             Married   \n",
              "...          ...    ...   ...              ...                 ...   \n",
              "6995   EID_16328      F  23.0                5             Married   \n",
              "6996    EID_8387      F  44.0                1             Married   \n",
              "6997    EID_8077      F  49.0                3              Single   \n",
              "6998   EID_19597      F  47.0                3             Married   \n",
              "6999    EID_1640      F  58.0                3             Married   \n",
              "\n",
              "         Hometown                       Unit Decision_skill_possess  \\\n",
              "0        Franklin                         IT             Conceptual   \n",
              "1     Springfield                  Logistics             Analytical   \n",
              "2         Clinton                    Quality             Conceptual   \n",
              "3         Lebanon  Human Resource Management             Behavioral   \n",
              "4     Springfield                  Logistics             Conceptual   \n",
              "...           ...                        ...                    ...   \n",
              "6995     Franklin                 Operarions             Behavioral   \n",
              "6996      Lebanon                        R&D             Analytical   \n",
              "6997  Springfield                         IT              Directive   \n",
              "6998   Washington                      Sales             Behavioral   \n",
              "6999     Franklin                         IT              Directive   \n",
              "\n",
              "      Time_of_service  Time_since_promotion  growth_rate  Travel_Rate  \\\n",
              "0                 4.0                     4           33            1   \n",
              "1                 5.0                     4           36            0   \n",
              "2                27.0                     3           51            0   \n",
              "3                 4.0                     3           56            1   \n",
              "4                 5.0                     4           62            1   \n",
              "...               ...                   ...          ...          ...   \n",
              "6995              4.0                     1           20            1   \n",
              "6996             16.0                     2           59            0   \n",
              "6997             10.0                     1           59            1   \n",
              "6998             24.0                     1           21            1   \n",
              "6999             22.0                     2           74            0   \n",
              "\n",
              "      Post_Level  Pay_Scale Compensation_and_Benefits  Work_Life_balance  \\\n",
              "0              1        7.0                     type2                3.0   \n",
              "1              3        6.0                     type2                4.0   \n",
              "2              2        8.0                     type2                1.0   \n",
              "3              3        8.0                     type2                1.0   \n",
              "4              3        2.0                     type3                3.0   \n",
              "...          ...        ...                       ...                ...   \n",
              "6995           2        6.0                     type3                3.0   \n",
              "6996           2        4.0                     type3                3.0   \n",
              "6997           2        3.0                     type2                4.0   \n",
              "6998           5        8.0                     type0                2.0   \n",
              "6999           4        5.0                     type2                3.0   \n",
              "\n",
              "      Attrition_rate  \n",
              "0             0.1841  \n",
              "1             0.0670  \n",
              "2             0.0851  \n",
              "3             0.0668  \n",
              "4             0.1827  \n",
              "...              ...  \n",
              "6995          0.7839  \n",
              "6996          0.1055  \n",
              "6997          0.7847  \n",
              "6998          0.4162  \n",
              "6999          0.0910  \n",
              "\n",
              "[7000 rows x 17 columns]"
            ],
            "text/html": [
              "\n",
              "  <div id=\"df-04f88400-73b9-4f19-97e7-d03b54b84ca6\">\n",
              "    <div class=\"colab-df-container\">\n",
              "      <div>\n",
              "<style scoped>\n",
              "    .dataframe tbody tr th:only-of-type {\n",
              "        vertical-align: middle;\n",
              "    }\n",
              "\n",
              "    .dataframe tbody tr th {\n",
              "        vertical-align: top;\n",
              "    }\n",
              "\n",
              "    .dataframe thead th {\n",
              "        text-align: right;\n",
              "    }\n",
              "</style>\n",
              "<table border=\"1\" class=\"dataframe\">\n",
              "  <thead>\n",
              "    <tr style=\"text-align: right;\">\n",
              "      <th></th>\n",
              "      <th>Employee_ID</th>\n",
              "      <th>Gender</th>\n",
              "      <th>Age</th>\n",
              "      <th>Education_Level</th>\n",
              "      <th>Relationship_Status</th>\n",
              "      <th>Hometown</th>\n",
              "      <th>Unit</th>\n",
              "      <th>Decision_skill_possess</th>\n",
              "      <th>Time_of_service</th>\n",
              "      <th>Time_since_promotion</th>\n",
              "      <th>growth_rate</th>\n",
              "      <th>Travel_Rate</th>\n",
              "      <th>Post_Level</th>\n",
              "      <th>Pay_Scale</th>\n",
              "      <th>Compensation_and_Benefits</th>\n",
              "      <th>Work_Life_balance</th>\n",
              "      <th>Attrition_rate</th>\n",
              "    </tr>\n",
              "  </thead>\n",
              "  <tbody>\n",
              "    <tr>\n",
              "      <th>0</th>\n",
              "      <td>EID_23371</td>\n",
              "      <td>F</td>\n",
              "      <td>42.0</td>\n",
              "      <td>4</td>\n",
              "      <td>Married</td>\n",
              "      <td>Franklin</td>\n",
              "      <td>IT</td>\n",
              "      <td>Conceptual</td>\n",
              "      <td>4.0</td>\n",
              "      <td>4</td>\n",
              "      <td>33</td>\n",
              "      <td>1</td>\n",
              "      <td>1</td>\n",
              "      <td>7.0</td>\n",
              "      <td>type2</td>\n",
              "      <td>3.0</td>\n",
              "      <td>0.1841</td>\n",
              "    </tr>\n",
              "    <tr>\n",
              "      <th>1</th>\n",
              "      <td>EID_18000</td>\n",
              "      <td>M</td>\n",
              "      <td>24.0</td>\n",
              "      <td>3</td>\n",
              "      <td>Single</td>\n",
              "      <td>Springfield</td>\n",
              "      <td>Logistics</td>\n",
              "      <td>Analytical</td>\n",
              "      <td>5.0</td>\n",
              "      <td>4</td>\n",
              "      <td>36</td>\n",
              "      <td>0</td>\n",
              "      <td>3</td>\n",
              "      <td>6.0</td>\n",
              "      <td>type2</td>\n",
              "      <td>4.0</td>\n",
              "      <td>0.0670</td>\n",
              "    </tr>\n",
              "    <tr>\n",
              "      <th>2</th>\n",
              "      <td>EID_3891</td>\n",
              "      <td>F</td>\n",
              "      <td>58.0</td>\n",
              "      <td>3</td>\n",
              "      <td>Married</td>\n",
              "      <td>Clinton</td>\n",
              "      <td>Quality</td>\n",
              "      <td>Conceptual</td>\n",
              "      <td>27.0</td>\n",
              "      <td>3</td>\n",
              "      <td>51</td>\n",
              "      <td>0</td>\n",
              "      <td>2</td>\n",
              "      <td>8.0</td>\n",
              "      <td>type2</td>\n",
              "      <td>1.0</td>\n",
              "      <td>0.0851</td>\n",
              "    </tr>\n",
              "    <tr>\n",
              "      <th>3</th>\n",
              "      <td>EID_17492</td>\n",
              "      <td>F</td>\n",
              "      <td>26.0</td>\n",
              "      <td>3</td>\n",
              "      <td>Single</td>\n",
              "      <td>Lebanon</td>\n",
              "      <td>Human Resource Management</td>\n",
              "      <td>Behavioral</td>\n",
              "      <td>4.0</td>\n",
              "      <td>3</td>\n",
              "      <td>56</td>\n",
              "      <td>1</td>\n",
              "      <td>3</td>\n",
              "      <td>8.0</td>\n",
              "      <td>type2</td>\n",
              "      <td>1.0</td>\n",
              "      <td>0.0668</td>\n",
              "    </tr>\n",
              "    <tr>\n",
              "      <th>4</th>\n",
              "      <td>EID_22534</td>\n",
              "      <td>F</td>\n",
              "      <td>31.0</td>\n",
              "      <td>1</td>\n",
              "      <td>Married</td>\n",
              "      <td>Springfield</td>\n",
              "      <td>Logistics</td>\n",
              "      <td>Conceptual</td>\n",
              "      <td>5.0</td>\n",
              "      <td>4</td>\n",
              "      <td>62</td>\n",
              "      <td>1</td>\n",
              "      <td>3</td>\n",
              "      <td>2.0</td>\n",
              "      <td>type3</td>\n",
              "      <td>3.0</td>\n",
              "      <td>0.1827</td>\n",
              "    </tr>\n",
              "    <tr>\n",
              "      <th>...</th>\n",
              "      <td>...</td>\n",
              "      <td>...</td>\n",
              "      <td>...</td>\n",
              "      <td>...</td>\n",
              "      <td>...</td>\n",
              "      <td>...</td>\n",
              "      <td>...</td>\n",
              "      <td>...</td>\n",
              "      <td>...</td>\n",
              "      <td>...</td>\n",
              "      <td>...</td>\n",
              "      <td>...</td>\n",
              "      <td>...</td>\n",
              "      <td>...</td>\n",
              "      <td>...</td>\n",
              "      <td>...</td>\n",
              "      <td>...</td>\n",
              "    </tr>\n",
              "    <tr>\n",
              "      <th>6995</th>\n",
              "      <td>EID_16328</td>\n",
              "      <td>F</td>\n",
              "      <td>23.0</td>\n",
              "      <td>5</td>\n",
              "      <td>Married</td>\n",
              "      <td>Franklin</td>\n",
              "      <td>Operarions</td>\n",
              "      <td>Behavioral</td>\n",
              "      <td>4.0</td>\n",
              "      <td>1</td>\n",
              "      <td>20</td>\n",
              "      <td>1</td>\n",
              "      <td>2</td>\n",
              "      <td>6.0</td>\n",
              "      <td>type3</td>\n",
              "      <td>3.0</td>\n",
              "      <td>0.7839</td>\n",
              "    </tr>\n",
              "    <tr>\n",
              "      <th>6996</th>\n",
              "      <td>EID_8387</td>\n",
              "      <td>F</td>\n",
              "      <td>44.0</td>\n",
              "      <td>1</td>\n",
              "      <td>Married</td>\n",
              "      <td>Lebanon</td>\n",
              "      <td>R&amp;D</td>\n",
              "      <td>Analytical</td>\n",
              "      <td>16.0</td>\n",
              "      <td>2</td>\n",
              "      <td>59</td>\n",
              "      <td>0</td>\n",
              "      <td>2</td>\n",
              "      <td>4.0</td>\n",
              "      <td>type3</td>\n",
              "      <td>3.0</td>\n",
              "      <td>0.1055</td>\n",
              "    </tr>\n",
              "    <tr>\n",
              "      <th>6997</th>\n",
              "      <td>EID_8077</td>\n",
              "      <td>F</td>\n",
              "      <td>49.0</td>\n",
              "      <td>3</td>\n",
              "      <td>Single</td>\n",
              "      <td>Springfield</td>\n",
              "      <td>IT</td>\n",
              "      <td>Directive</td>\n",
              "      <td>10.0</td>\n",
              "      <td>1</td>\n",
              "      <td>59</td>\n",
              "      <td>1</td>\n",
              "      <td>2</td>\n",
              "      <td>3.0</td>\n",
              "      <td>type2</td>\n",
              "      <td>4.0</td>\n",
              "      <td>0.7847</td>\n",
              "    </tr>\n",
              "    <tr>\n",
              "      <th>6998</th>\n",
              "      <td>EID_19597</td>\n",
              "      <td>F</td>\n",
              "      <td>47.0</td>\n",
              "      <td>3</td>\n",
              "      <td>Married</td>\n",
              "      <td>Washington</td>\n",
              "      <td>Sales</td>\n",
              "      <td>Behavioral</td>\n",
              "      <td>24.0</td>\n",
              "      <td>1</td>\n",
              "      <td>21</td>\n",
              "      <td>1</td>\n",
              "      <td>5</td>\n",
              "      <td>8.0</td>\n",
              "      <td>type0</td>\n",
              "      <td>2.0</td>\n",
              "      <td>0.4162</td>\n",
              "    </tr>\n",
              "    <tr>\n",
              "      <th>6999</th>\n",
              "      <td>EID_1640</td>\n",
              "      <td>F</td>\n",
              "      <td>58.0</td>\n",
              "      <td>3</td>\n",
              "      <td>Married</td>\n",
              "      <td>Franklin</td>\n",
              "      <td>IT</td>\n",
              "      <td>Directive</td>\n",
              "      <td>22.0</td>\n",
              "      <td>2</td>\n",
              "      <td>74</td>\n",
              "      <td>0</td>\n",
              "      <td>4</td>\n",
              "      <td>5.0</td>\n",
              "      <td>type2</td>\n",
              "      <td>3.0</td>\n",
              "      <td>0.0910</td>\n",
              "    </tr>\n",
              "  </tbody>\n",
              "</table>\n",
              "<p>7000 rows × 17 columns</p>\n",
              "</div>\n",
              "      <button class=\"colab-df-convert\" onclick=\"convertToInteractive('df-04f88400-73b9-4f19-97e7-d03b54b84ca6')\"\n",
              "              title=\"Convert this dataframe to an interactive table.\"\n",
              "              style=\"display:none;\">\n",
              "        \n",
              "  <svg xmlns=\"http://www.w3.org/2000/svg\" height=\"24px\"viewBox=\"0 0 24 24\"\n",
              "       width=\"24px\">\n",
              "    <path d=\"M0 0h24v24H0V0z\" fill=\"none\"/>\n",
              "    <path d=\"M18.56 5.44l.94 2.06.94-2.06 2.06-.94-2.06-.94-.94-2.06-.94 2.06-2.06.94zm-11 1L8.5 8.5l.94-2.06 2.06-.94-2.06-.94L8.5 2.5l-.94 2.06-2.06.94zm10 10l.94 2.06.94-2.06 2.06-.94-2.06-.94-.94-2.06-.94 2.06-2.06.94z\"/><path d=\"M17.41 7.96l-1.37-1.37c-.4-.4-.92-.59-1.43-.59-.52 0-1.04.2-1.43.59L10.3 9.45l-7.72 7.72c-.78.78-.78 2.05 0 2.83L4 21.41c.39.39.9.59 1.41.59.51 0 1.02-.2 1.41-.59l7.78-7.78 2.81-2.81c.8-.78.8-2.07 0-2.86zM5.41 20L4 18.59l7.72-7.72 1.47 1.35L5.41 20z\"/>\n",
              "  </svg>\n",
              "      </button>\n",
              "      \n",
              "  <style>\n",
              "    .colab-df-container {\n",
              "      display:flex;\n",
              "      flex-wrap:wrap;\n",
              "      gap: 12px;\n",
              "    }\n",
              "\n",
              "    .colab-df-convert {\n",
              "      background-color: #E8F0FE;\n",
              "      border: none;\n",
              "      border-radius: 50%;\n",
              "      cursor: pointer;\n",
              "      display: none;\n",
              "      fill: #1967D2;\n",
              "      height: 32px;\n",
              "      padding: 0 0 0 0;\n",
              "      width: 32px;\n",
              "    }\n",
              "\n",
              "    .colab-df-convert:hover {\n",
              "      background-color: #E2EBFA;\n",
              "      box-shadow: 0px 1px 2px rgba(60, 64, 67, 0.3), 0px 1px 3px 1px rgba(60, 64, 67, 0.15);\n",
              "      fill: #174EA6;\n",
              "    }\n",
              "\n",
              "    [theme=dark] .colab-df-convert {\n",
              "      background-color: #3B4455;\n",
              "      fill: #D2E3FC;\n",
              "    }\n",
              "\n",
              "    [theme=dark] .colab-df-convert:hover {\n",
              "      background-color: #434B5C;\n",
              "      box-shadow: 0px 1px 3px 1px rgba(0, 0, 0, 0.15);\n",
              "      filter: drop-shadow(0px 1px 2px rgba(0, 0, 0, 0.3));\n",
              "      fill: #FFFFFF;\n",
              "    }\n",
              "  </style>\n",
              "\n",
              "      <script>\n",
              "        const buttonEl =\n",
              "          document.querySelector('#df-04f88400-73b9-4f19-97e7-d03b54b84ca6 button.colab-df-convert');\n",
              "        buttonEl.style.display =\n",
              "          google.colab.kernel.accessAllowed ? 'block' : 'none';\n",
              "\n",
              "        async function convertToInteractive(key) {\n",
              "          const element = document.querySelector('#df-04f88400-73b9-4f19-97e7-d03b54b84ca6');\n",
              "          const dataTable =\n",
              "            await google.colab.kernel.invokeFunction('convertToInteractive',\n",
              "                                                     [key], {});\n",
              "          if (!dataTable) return;\n",
              "\n",
              "          const docLinkHtml = 'Like what you see? Visit the ' +\n",
              "            '<a target=\"_blank\" href=https://colab.research.google.com/notebooks/data_table.ipynb>data table notebook</a>'\n",
              "            + ' to learn more about interactive tables.';\n",
              "          element.innerHTML = '';\n",
              "          dataTable['output_type'] = 'display_data';\n",
              "          await google.colab.output.renderOutput(dataTable, element);\n",
              "          const docLink = document.createElement('div');\n",
              "          docLink.innerHTML = docLinkHtml;\n",
              "          element.appendChild(docLink);\n",
              "        }\n",
              "      </script>\n",
              "    </div>\n",
              "  </div>\n",
              "  "
            ]
          },
          "metadata": {},
          "execution_count": 2
        }
      ]
    },
    {
      "cell_type": "markdown",
      "metadata": {
        "id": "X1pC0NlIJkni"
      },
      "source": [
        "3.\tObserva la estructura y contenido del dataframe con los atributos y métodos estudiados (`shape`, `columns`, `head()`, `dtypes`, `isna()`)"
      ]
    },
    {
      "cell_type": "code",
      "metadata": {
        "id": "Y5TX35DKN52M",
        "colab": {
          "base_uri": "https://localhost:8080/"
        },
        "outputId": "1b613b09-a0e1-41ac-c263-d345483df4e1"
      },
      "source": [
        "employees.shape"
      ],
      "execution_count": null,
      "outputs": [
        {
          "output_type": "execute_result",
          "data": {
            "text/plain": [
              "(7000, 17)"
            ]
          },
          "metadata": {},
          "execution_count": 3
        }
      ]
    },
    {
      "cell_type": "code",
      "source": [
        "employees.columns"
      ],
      "metadata": {
        "colab": {
          "base_uri": "https://localhost:8080/"
        },
        "id": "JuNUdneSMVvN",
        "outputId": "aee1dfe8-2c7e-443a-f4b1-35ff5c796fa7"
      },
      "execution_count": null,
      "outputs": [
        {
          "output_type": "execute_result",
          "data": {
            "text/plain": [
              "Index(['Employee_ID', 'Gender', 'Age', 'Education_Level',\n",
              "       'Relationship_Status', 'Hometown', 'Unit', 'Decision_skill_possess',\n",
              "       'Time_of_service', 'Time_since_promotion', 'growth_rate', 'Travel_Rate',\n",
              "       'Post_Level', 'Pay_Scale', 'Compensation_and_Benefits',\n",
              "       'Work_Life_balance', 'Attrition_rate'],\n",
              "      dtype='object')"
            ]
          },
          "metadata": {},
          "execution_count": 4
        }
      ]
    },
    {
      "cell_type": "code",
      "source": [
        "employees.head()"
      ],
      "metadata": {
        "colab": {
          "base_uri": "https://localhost:8080/",
          "height": 305
        },
        "id": "4xCsalQfMZIs",
        "outputId": "bc5dfbe9-0a08-4ff7-9b98-474c14eb4406"
      },
      "execution_count": null,
      "outputs": [
        {
          "output_type": "execute_result",
          "data": {
            "text/plain": [
              "  Employee_ID Gender   Age  Education_Level Relationship_Status     Hometown  \\\n",
              "0   EID_23371      F  42.0                4             Married     Franklin   \n",
              "1   EID_18000      M  24.0                3              Single  Springfield   \n",
              "2    EID_3891      F  58.0                3             Married      Clinton   \n",
              "3   EID_17492      F  26.0                3              Single      Lebanon   \n",
              "4   EID_22534      F  31.0                1             Married  Springfield   \n",
              "\n",
              "                        Unit Decision_skill_possess  Time_of_service  \\\n",
              "0                         IT             Conceptual              4.0   \n",
              "1                  Logistics             Analytical              5.0   \n",
              "2                    Quality             Conceptual             27.0   \n",
              "3  Human Resource Management             Behavioral              4.0   \n",
              "4                  Logistics             Conceptual              5.0   \n",
              "\n",
              "   Time_since_promotion  growth_rate  Travel_Rate  Post_Level  Pay_Scale  \\\n",
              "0                     4           33            1           1        7.0   \n",
              "1                     4           36            0           3        6.0   \n",
              "2                     3           51            0           2        8.0   \n",
              "3                     3           56            1           3        8.0   \n",
              "4                     4           62            1           3        2.0   \n",
              "\n",
              "  Compensation_and_Benefits  Work_Life_balance  Attrition_rate  \n",
              "0                     type2                3.0          0.1841  \n",
              "1                     type2                4.0          0.0670  \n",
              "2                     type2                1.0          0.0851  \n",
              "3                     type2                1.0          0.0668  \n",
              "4                     type3                3.0          0.1827  "
            ],
            "text/html": [
              "\n",
              "  <div id=\"df-52ce08ec-49d5-49e1-8658-36fa82046256\">\n",
              "    <div class=\"colab-df-container\">\n",
              "      <div>\n",
              "<style scoped>\n",
              "    .dataframe tbody tr th:only-of-type {\n",
              "        vertical-align: middle;\n",
              "    }\n",
              "\n",
              "    .dataframe tbody tr th {\n",
              "        vertical-align: top;\n",
              "    }\n",
              "\n",
              "    .dataframe thead th {\n",
              "        text-align: right;\n",
              "    }\n",
              "</style>\n",
              "<table border=\"1\" class=\"dataframe\">\n",
              "  <thead>\n",
              "    <tr style=\"text-align: right;\">\n",
              "      <th></th>\n",
              "      <th>Employee_ID</th>\n",
              "      <th>Gender</th>\n",
              "      <th>Age</th>\n",
              "      <th>Education_Level</th>\n",
              "      <th>Relationship_Status</th>\n",
              "      <th>Hometown</th>\n",
              "      <th>Unit</th>\n",
              "      <th>Decision_skill_possess</th>\n",
              "      <th>Time_of_service</th>\n",
              "      <th>Time_since_promotion</th>\n",
              "      <th>growth_rate</th>\n",
              "      <th>Travel_Rate</th>\n",
              "      <th>Post_Level</th>\n",
              "      <th>Pay_Scale</th>\n",
              "      <th>Compensation_and_Benefits</th>\n",
              "      <th>Work_Life_balance</th>\n",
              "      <th>Attrition_rate</th>\n",
              "    </tr>\n",
              "  </thead>\n",
              "  <tbody>\n",
              "    <tr>\n",
              "      <th>0</th>\n",
              "      <td>EID_23371</td>\n",
              "      <td>F</td>\n",
              "      <td>42.0</td>\n",
              "      <td>4</td>\n",
              "      <td>Married</td>\n",
              "      <td>Franklin</td>\n",
              "      <td>IT</td>\n",
              "      <td>Conceptual</td>\n",
              "      <td>4.0</td>\n",
              "      <td>4</td>\n",
              "      <td>33</td>\n",
              "      <td>1</td>\n",
              "      <td>1</td>\n",
              "      <td>7.0</td>\n",
              "      <td>type2</td>\n",
              "      <td>3.0</td>\n",
              "      <td>0.1841</td>\n",
              "    </tr>\n",
              "    <tr>\n",
              "      <th>1</th>\n",
              "      <td>EID_18000</td>\n",
              "      <td>M</td>\n",
              "      <td>24.0</td>\n",
              "      <td>3</td>\n",
              "      <td>Single</td>\n",
              "      <td>Springfield</td>\n",
              "      <td>Logistics</td>\n",
              "      <td>Analytical</td>\n",
              "      <td>5.0</td>\n",
              "      <td>4</td>\n",
              "      <td>36</td>\n",
              "      <td>0</td>\n",
              "      <td>3</td>\n",
              "      <td>6.0</td>\n",
              "      <td>type2</td>\n",
              "      <td>4.0</td>\n",
              "      <td>0.0670</td>\n",
              "    </tr>\n",
              "    <tr>\n",
              "      <th>2</th>\n",
              "      <td>EID_3891</td>\n",
              "      <td>F</td>\n",
              "      <td>58.0</td>\n",
              "      <td>3</td>\n",
              "      <td>Married</td>\n",
              "      <td>Clinton</td>\n",
              "      <td>Quality</td>\n",
              "      <td>Conceptual</td>\n",
              "      <td>27.0</td>\n",
              "      <td>3</td>\n",
              "      <td>51</td>\n",
              "      <td>0</td>\n",
              "      <td>2</td>\n",
              "      <td>8.0</td>\n",
              "      <td>type2</td>\n",
              "      <td>1.0</td>\n",
              "      <td>0.0851</td>\n",
              "    </tr>\n",
              "    <tr>\n",
              "      <th>3</th>\n",
              "      <td>EID_17492</td>\n",
              "      <td>F</td>\n",
              "      <td>26.0</td>\n",
              "      <td>3</td>\n",
              "      <td>Single</td>\n",
              "      <td>Lebanon</td>\n",
              "      <td>Human Resource Management</td>\n",
              "      <td>Behavioral</td>\n",
              "      <td>4.0</td>\n",
              "      <td>3</td>\n",
              "      <td>56</td>\n",
              "      <td>1</td>\n",
              "      <td>3</td>\n",
              "      <td>8.0</td>\n",
              "      <td>type2</td>\n",
              "      <td>1.0</td>\n",
              "      <td>0.0668</td>\n",
              "    </tr>\n",
              "    <tr>\n",
              "      <th>4</th>\n",
              "      <td>EID_22534</td>\n",
              "      <td>F</td>\n",
              "      <td>31.0</td>\n",
              "      <td>1</td>\n",
              "      <td>Married</td>\n",
              "      <td>Springfield</td>\n",
              "      <td>Logistics</td>\n",
              "      <td>Conceptual</td>\n",
              "      <td>5.0</td>\n",
              "      <td>4</td>\n",
              "      <td>62</td>\n",
              "      <td>1</td>\n",
              "      <td>3</td>\n",
              "      <td>2.0</td>\n",
              "      <td>type3</td>\n",
              "      <td>3.0</td>\n",
              "      <td>0.1827</td>\n",
              "    </tr>\n",
              "  </tbody>\n",
              "</table>\n",
              "</div>\n",
              "      <button class=\"colab-df-convert\" onclick=\"convertToInteractive('df-52ce08ec-49d5-49e1-8658-36fa82046256')\"\n",
              "              title=\"Convert this dataframe to an interactive table.\"\n",
              "              style=\"display:none;\">\n",
              "        \n",
              "  <svg xmlns=\"http://www.w3.org/2000/svg\" height=\"24px\"viewBox=\"0 0 24 24\"\n",
              "       width=\"24px\">\n",
              "    <path d=\"M0 0h24v24H0V0z\" fill=\"none\"/>\n",
              "    <path d=\"M18.56 5.44l.94 2.06.94-2.06 2.06-.94-2.06-.94-.94-2.06-.94 2.06-2.06.94zm-11 1L8.5 8.5l.94-2.06 2.06-.94-2.06-.94L8.5 2.5l-.94 2.06-2.06.94zm10 10l.94 2.06.94-2.06 2.06-.94-2.06-.94-.94-2.06-.94 2.06-2.06.94z\"/><path d=\"M17.41 7.96l-1.37-1.37c-.4-.4-.92-.59-1.43-.59-.52 0-1.04.2-1.43.59L10.3 9.45l-7.72 7.72c-.78.78-.78 2.05 0 2.83L4 21.41c.39.39.9.59 1.41.59.51 0 1.02-.2 1.41-.59l7.78-7.78 2.81-2.81c.8-.78.8-2.07 0-2.86zM5.41 20L4 18.59l7.72-7.72 1.47 1.35L5.41 20z\"/>\n",
              "  </svg>\n",
              "      </button>\n",
              "      \n",
              "  <style>\n",
              "    .colab-df-container {\n",
              "      display:flex;\n",
              "      flex-wrap:wrap;\n",
              "      gap: 12px;\n",
              "    }\n",
              "\n",
              "    .colab-df-convert {\n",
              "      background-color: #E8F0FE;\n",
              "      border: none;\n",
              "      border-radius: 50%;\n",
              "      cursor: pointer;\n",
              "      display: none;\n",
              "      fill: #1967D2;\n",
              "      height: 32px;\n",
              "      padding: 0 0 0 0;\n",
              "      width: 32px;\n",
              "    }\n",
              "\n",
              "    .colab-df-convert:hover {\n",
              "      background-color: #E2EBFA;\n",
              "      box-shadow: 0px 1px 2px rgba(60, 64, 67, 0.3), 0px 1px 3px 1px rgba(60, 64, 67, 0.15);\n",
              "      fill: #174EA6;\n",
              "    }\n",
              "\n",
              "    [theme=dark] .colab-df-convert {\n",
              "      background-color: #3B4455;\n",
              "      fill: #D2E3FC;\n",
              "    }\n",
              "\n",
              "    [theme=dark] .colab-df-convert:hover {\n",
              "      background-color: #434B5C;\n",
              "      box-shadow: 0px 1px 3px 1px rgba(0, 0, 0, 0.15);\n",
              "      filter: drop-shadow(0px 1px 2px rgba(0, 0, 0, 0.3));\n",
              "      fill: #FFFFFF;\n",
              "    }\n",
              "  </style>\n",
              "\n",
              "      <script>\n",
              "        const buttonEl =\n",
              "          document.querySelector('#df-52ce08ec-49d5-49e1-8658-36fa82046256 button.colab-df-convert');\n",
              "        buttonEl.style.display =\n",
              "          google.colab.kernel.accessAllowed ? 'block' : 'none';\n",
              "\n",
              "        async function convertToInteractive(key) {\n",
              "          const element = document.querySelector('#df-52ce08ec-49d5-49e1-8658-36fa82046256');\n",
              "          const dataTable =\n",
              "            await google.colab.kernel.invokeFunction('convertToInteractive',\n",
              "                                                     [key], {});\n",
              "          if (!dataTable) return;\n",
              "\n",
              "          const docLinkHtml = 'Like what you see? Visit the ' +\n",
              "            '<a target=\"_blank\" href=https://colab.research.google.com/notebooks/data_table.ipynb>data table notebook</a>'\n",
              "            + ' to learn more about interactive tables.';\n",
              "          element.innerHTML = '';\n",
              "          dataTable['output_type'] = 'display_data';\n",
              "          await google.colab.output.renderOutput(dataTable, element);\n",
              "          const docLink = document.createElement('div');\n",
              "          docLink.innerHTML = docLinkHtml;\n",
              "          element.appendChild(docLink);\n",
              "        }\n",
              "      </script>\n",
              "    </div>\n",
              "  </div>\n",
              "  "
            ]
          },
          "metadata": {},
          "execution_count": 5
        }
      ]
    },
    {
      "cell_type": "code",
      "source": [
        "employees.dtypes"
      ],
      "metadata": {
        "colab": {
          "base_uri": "https://localhost:8080/"
        },
        "id": "dw7BJ1MgMmp3",
        "outputId": "82a5551b-b678-4537-e7ad-0aecb12f10d9"
      },
      "execution_count": null,
      "outputs": [
        {
          "output_type": "execute_result",
          "data": {
            "text/plain": [
              "Employee_ID                   object\n",
              "Gender                        object\n",
              "Age                          float64\n",
              "Education_Level                int64\n",
              "Relationship_Status           object\n",
              "Hometown                      object\n",
              "Unit                          object\n",
              "Decision_skill_possess        object\n",
              "Time_of_service              float64\n",
              "Time_since_promotion           int64\n",
              "growth_rate                    int64\n",
              "Travel_Rate                    int64\n",
              "Post_Level                     int64\n",
              "Pay_Scale                    float64\n",
              "Compensation_and_Benefits     object\n",
              "Work_Life_balance            float64\n",
              "Attrition_rate               float64\n",
              "dtype: object"
            ]
          },
          "metadata": {},
          "execution_count": 6
        }
      ]
    },
    {
      "cell_type": "code",
      "source": [
        "employees.isna()"
      ],
      "metadata": {
        "colab": {
          "base_uri": "https://localhost:8080/",
          "height": 488
        },
        "id": "9HlwDGEAMrAV",
        "outputId": "62f79462-19bc-4b75-ef51-48ba1f9d1bd1"
      },
      "execution_count": null,
      "outputs": [
        {
          "output_type": "execute_result",
          "data": {
            "text/plain": [
              "      Employee_ID  Gender    Age  Education_Level  Relationship_Status  \\\n",
              "0           False   False  False            False                False   \n",
              "1           False   False  False            False                False   \n",
              "2           False   False  False            False                False   \n",
              "3           False   False  False            False                False   \n",
              "4           False   False  False            False                False   \n",
              "...           ...     ...    ...              ...                  ...   \n",
              "6995        False   False  False            False                False   \n",
              "6996        False   False  False            False                False   \n",
              "6997        False   False  False            False                False   \n",
              "6998        False   False  False            False                False   \n",
              "6999        False   False  False            False                False   \n",
              "\n",
              "      Hometown   Unit  Decision_skill_possess  Time_of_service  \\\n",
              "0        False  False                   False            False   \n",
              "1        False  False                   False            False   \n",
              "2        False  False                   False            False   \n",
              "3        False  False                   False            False   \n",
              "4        False  False                   False            False   \n",
              "...        ...    ...                     ...              ...   \n",
              "6995     False  False                   False            False   \n",
              "6996     False  False                   False            False   \n",
              "6997     False  False                   False            False   \n",
              "6998     False  False                   False            False   \n",
              "6999     False  False                   False            False   \n",
              "\n",
              "      Time_since_promotion  growth_rate  Travel_Rate  Post_Level  Pay_Scale  \\\n",
              "0                    False        False        False       False      False   \n",
              "1                    False        False        False       False      False   \n",
              "2                    False        False        False       False      False   \n",
              "3                    False        False        False       False      False   \n",
              "4                    False        False        False       False      False   \n",
              "...                    ...          ...          ...         ...        ...   \n",
              "6995                 False        False        False       False      False   \n",
              "6996                 False        False        False       False      False   \n",
              "6997                 False        False        False       False      False   \n",
              "6998                 False        False        False       False      False   \n",
              "6999                 False        False        False       False      False   \n",
              "\n",
              "      Compensation_and_Benefits  Work_Life_balance  Attrition_rate  \n",
              "0                         False              False           False  \n",
              "1                         False              False           False  \n",
              "2                         False              False           False  \n",
              "3                         False              False           False  \n",
              "4                         False              False           False  \n",
              "...                         ...                ...             ...  \n",
              "6995                      False              False           False  \n",
              "6996                      False              False           False  \n",
              "6997                      False              False           False  \n",
              "6998                      False              False           False  \n",
              "6999                      False              False           False  \n",
              "\n",
              "[7000 rows x 17 columns]"
            ],
            "text/html": [
              "\n",
              "  <div id=\"df-6c0e6f2a-f620-4ec2-ae88-f47e28e31b01\">\n",
              "    <div class=\"colab-df-container\">\n",
              "      <div>\n",
              "<style scoped>\n",
              "    .dataframe tbody tr th:only-of-type {\n",
              "        vertical-align: middle;\n",
              "    }\n",
              "\n",
              "    .dataframe tbody tr th {\n",
              "        vertical-align: top;\n",
              "    }\n",
              "\n",
              "    .dataframe thead th {\n",
              "        text-align: right;\n",
              "    }\n",
              "</style>\n",
              "<table border=\"1\" class=\"dataframe\">\n",
              "  <thead>\n",
              "    <tr style=\"text-align: right;\">\n",
              "      <th></th>\n",
              "      <th>Employee_ID</th>\n",
              "      <th>Gender</th>\n",
              "      <th>Age</th>\n",
              "      <th>Education_Level</th>\n",
              "      <th>Relationship_Status</th>\n",
              "      <th>Hometown</th>\n",
              "      <th>Unit</th>\n",
              "      <th>Decision_skill_possess</th>\n",
              "      <th>Time_of_service</th>\n",
              "      <th>Time_since_promotion</th>\n",
              "      <th>growth_rate</th>\n",
              "      <th>Travel_Rate</th>\n",
              "      <th>Post_Level</th>\n",
              "      <th>Pay_Scale</th>\n",
              "      <th>Compensation_and_Benefits</th>\n",
              "      <th>Work_Life_balance</th>\n",
              "      <th>Attrition_rate</th>\n",
              "    </tr>\n",
              "  </thead>\n",
              "  <tbody>\n",
              "    <tr>\n",
              "      <th>0</th>\n",
              "      <td>False</td>\n",
              "      <td>False</td>\n",
              "      <td>False</td>\n",
              "      <td>False</td>\n",
              "      <td>False</td>\n",
              "      <td>False</td>\n",
              "      <td>False</td>\n",
              "      <td>False</td>\n",
              "      <td>False</td>\n",
              "      <td>False</td>\n",
              "      <td>False</td>\n",
              "      <td>False</td>\n",
              "      <td>False</td>\n",
              "      <td>False</td>\n",
              "      <td>False</td>\n",
              "      <td>False</td>\n",
              "      <td>False</td>\n",
              "    </tr>\n",
              "    <tr>\n",
              "      <th>1</th>\n",
              "      <td>False</td>\n",
              "      <td>False</td>\n",
              "      <td>False</td>\n",
              "      <td>False</td>\n",
              "      <td>False</td>\n",
              "      <td>False</td>\n",
              "      <td>False</td>\n",
              "      <td>False</td>\n",
              "      <td>False</td>\n",
              "      <td>False</td>\n",
              "      <td>False</td>\n",
              "      <td>False</td>\n",
              "      <td>False</td>\n",
              "      <td>False</td>\n",
              "      <td>False</td>\n",
              "      <td>False</td>\n",
              "      <td>False</td>\n",
              "    </tr>\n",
              "    <tr>\n",
              "      <th>2</th>\n",
              "      <td>False</td>\n",
              "      <td>False</td>\n",
              "      <td>False</td>\n",
              "      <td>False</td>\n",
              "      <td>False</td>\n",
              "      <td>False</td>\n",
              "      <td>False</td>\n",
              "      <td>False</td>\n",
              "      <td>False</td>\n",
              "      <td>False</td>\n",
              "      <td>False</td>\n",
              "      <td>False</td>\n",
              "      <td>False</td>\n",
              "      <td>False</td>\n",
              "      <td>False</td>\n",
              "      <td>False</td>\n",
              "      <td>False</td>\n",
              "    </tr>\n",
              "    <tr>\n",
              "      <th>3</th>\n",
              "      <td>False</td>\n",
              "      <td>False</td>\n",
              "      <td>False</td>\n",
              "      <td>False</td>\n",
              "      <td>False</td>\n",
              "      <td>False</td>\n",
              "      <td>False</td>\n",
              "      <td>False</td>\n",
              "      <td>False</td>\n",
              "      <td>False</td>\n",
              "      <td>False</td>\n",
              "      <td>False</td>\n",
              "      <td>False</td>\n",
              "      <td>False</td>\n",
              "      <td>False</td>\n",
              "      <td>False</td>\n",
              "      <td>False</td>\n",
              "    </tr>\n",
              "    <tr>\n",
              "      <th>4</th>\n",
              "      <td>False</td>\n",
              "      <td>False</td>\n",
              "      <td>False</td>\n",
              "      <td>False</td>\n",
              "      <td>False</td>\n",
              "      <td>False</td>\n",
              "      <td>False</td>\n",
              "      <td>False</td>\n",
              "      <td>False</td>\n",
              "      <td>False</td>\n",
              "      <td>False</td>\n",
              "      <td>False</td>\n",
              "      <td>False</td>\n",
              "      <td>False</td>\n",
              "      <td>False</td>\n",
              "      <td>False</td>\n",
              "      <td>False</td>\n",
              "    </tr>\n",
              "    <tr>\n",
              "      <th>...</th>\n",
              "      <td>...</td>\n",
              "      <td>...</td>\n",
              "      <td>...</td>\n",
              "      <td>...</td>\n",
              "      <td>...</td>\n",
              "      <td>...</td>\n",
              "      <td>...</td>\n",
              "      <td>...</td>\n",
              "      <td>...</td>\n",
              "      <td>...</td>\n",
              "      <td>...</td>\n",
              "      <td>...</td>\n",
              "      <td>...</td>\n",
              "      <td>...</td>\n",
              "      <td>...</td>\n",
              "      <td>...</td>\n",
              "      <td>...</td>\n",
              "    </tr>\n",
              "    <tr>\n",
              "      <th>6995</th>\n",
              "      <td>False</td>\n",
              "      <td>False</td>\n",
              "      <td>False</td>\n",
              "      <td>False</td>\n",
              "      <td>False</td>\n",
              "      <td>False</td>\n",
              "      <td>False</td>\n",
              "      <td>False</td>\n",
              "      <td>False</td>\n",
              "      <td>False</td>\n",
              "      <td>False</td>\n",
              "      <td>False</td>\n",
              "      <td>False</td>\n",
              "      <td>False</td>\n",
              "      <td>False</td>\n",
              "      <td>False</td>\n",
              "      <td>False</td>\n",
              "    </tr>\n",
              "    <tr>\n",
              "      <th>6996</th>\n",
              "      <td>False</td>\n",
              "      <td>False</td>\n",
              "      <td>False</td>\n",
              "      <td>False</td>\n",
              "      <td>False</td>\n",
              "      <td>False</td>\n",
              "      <td>False</td>\n",
              "      <td>False</td>\n",
              "      <td>False</td>\n",
              "      <td>False</td>\n",
              "      <td>False</td>\n",
              "      <td>False</td>\n",
              "      <td>False</td>\n",
              "      <td>False</td>\n",
              "      <td>False</td>\n",
              "      <td>False</td>\n",
              "      <td>False</td>\n",
              "    </tr>\n",
              "    <tr>\n",
              "      <th>6997</th>\n",
              "      <td>False</td>\n",
              "      <td>False</td>\n",
              "      <td>False</td>\n",
              "      <td>False</td>\n",
              "      <td>False</td>\n",
              "      <td>False</td>\n",
              "      <td>False</td>\n",
              "      <td>False</td>\n",
              "      <td>False</td>\n",
              "      <td>False</td>\n",
              "      <td>False</td>\n",
              "      <td>False</td>\n",
              "      <td>False</td>\n",
              "      <td>False</td>\n",
              "      <td>False</td>\n",
              "      <td>False</td>\n",
              "      <td>False</td>\n",
              "    </tr>\n",
              "    <tr>\n",
              "      <th>6998</th>\n",
              "      <td>False</td>\n",
              "      <td>False</td>\n",
              "      <td>False</td>\n",
              "      <td>False</td>\n",
              "      <td>False</td>\n",
              "      <td>False</td>\n",
              "      <td>False</td>\n",
              "      <td>False</td>\n",
              "      <td>False</td>\n",
              "      <td>False</td>\n",
              "      <td>False</td>\n",
              "      <td>False</td>\n",
              "      <td>False</td>\n",
              "      <td>False</td>\n",
              "      <td>False</td>\n",
              "      <td>False</td>\n",
              "      <td>False</td>\n",
              "    </tr>\n",
              "    <tr>\n",
              "      <th>6999</th>\n",
              "      <td>False</td>\n",
              "      <td>False</td>\n",
              "      <td>False</td>\n",
              "      <td>False</td>\n",
              "      <td>False</td>\n",
              "      <td>False</td>\n",
              "      <td>False</td>\n",
              "      <td>False</td>\n",
              "      <td>False</td>\n",
              "      <td>False</td>\n",
              "      <td>False</td>\n",
              "      <td>False</td>\n",
              "      <td>False</td>\n",
              "      <td>False</td>\n",
              "      <td>False</td>\n",
              "      <td>False</td>\n",
              "      <td>False</td>\n",
              "    </tr>\n",
              "  </tbody>\n",
              "</table>\n",
              "<p>7000 rows × 17 columns</p>\n",
              "</div>\n",
              "      <button class=\"colab-df-convert\" onclick=\"convertToInteractive('df-6c0e6f2a-f620-4ec2-ae88-f47e28e31b01')\"\n",
              "              title=\"Convert this dataframe to an interactive table.\"\n",
              "              style=\"display:none;\">\n",
              "        \n",
              "  <svg xmlns=\"http://www.w3.org/2000/svg\" height=\"24px\"viewBox=\"0 0 24 24\"\n",
              "       width=\"24px\">\n",
              "    <path d=\"M0 0h24v24H0V0z\" fill=\"none\"/>\n",
              "    <path d=\"M18.56 5.44l.94 2.06.94-2.06 2.06-.94-2.06-.94-.94-2.06-.94 2.06-2.06.94zm-11 1L8.5 8.5l.94-2.06 2.06-.94-2.06-.94L8.5 2.5l-.94 2.06-2.06.94zm10 10l.94 2.06.94-2.06 2.06-.94-2.06-.94-.94-2.06-.94 2.06-2.06.94z\"/><path d=\"M17.41 7.96l-1.37-1.37c-.4-.4-.92-.59-1.43-.59-.52 0-1.04.2-1.43.59L10.3 9.45l-7.72 7.72c-.78.78-.78 2.05 0 2.83L4 21.41c.39.39.9.59 1.41.59.51 0 1.02-.2 1.41-.59l7.78-7.78 2.81-2.81c.8-.78.8-2.07 0-2.86zM5.41 20L4 18.59l7.72-7.72 1.47 1.35L5.41 20z\"/>\n",
              "  </svg>\n",
              "      </button>\n",
              "      \n",
              "  <style>\n",
              "    .colab-df-container {\n",
              "      display:flex;\n",
              "      flex-wrap:wrap;\n",
              "      gap: 12px;\n",
              "    }\n",
              "\n",
              "    .colab-df-convert {\n",
              "      background-color: #E8F0FE;\n",
              "      border: none;\n",
              "      border-radius: 50%;\n",
              "      cursor: pointer;\n",
              "      display: none;\n",
              "      fill: #1967D2;\n",
              "      height: 32px;\n",
              "      padding: 0 0 0 0;\n",
              "      width: 32px;\n",
              "    }\n",
              "\n",
              "    .colab-df-convert:hover {\n",
              "      background-color: #E2EBFA;\n",
              "      box-shadow: 0px 1px 2px rgba(60, 64, 67, 0.3), 0px 1px 3px 1px rgba(60, 64, 67, 0.15);\n",
              "      fill: #174EA6;\n",
              "    }\n",
              "\n",
              "    [theme=dark] .colab-df-convert {\n",
              "      background-color: #3B4455;\n",
              "      fill: #D2E3FC;\n",
              "    }\n",
              "\n",
              "    [theme=dark] .colab-df-convert:hover {\n",
              "      background-color: #434B5C;\n",
              "      box-shadow: 0px 1px 3px 1px rgba(0, 0, 0, 0.15);\n",
              "      filter: drop-shadow(0px 1px 2px rgba(0, 0, 0, 0.3));\n",
              "      fill: #FFFFFF;\n",
              "    }\n",
              "  </style>\n",
              "\n",
              "      <script>\n",
              "        const buttonEl =\n",
              "          document.querySelector('#df-6c0e6f2a-f620-4ec2-ae88-f47e28e31b01 button.colab-df-convert');\n",
              "        buttonEl.style.display =\n",
              "          google.colab.kernel.accessAllowed ? 'block' : 'none';\n",
              "\n",
              "        async function convertToInteractive(key) {\n",
              "          const element = document.querySelector('#df-6c0e6f2a-f620-4ec2-ae88-f47e28e31b01');\n",
              "          const dataTable =\n",
              "            await google.colab.kernel.invokeFunction('convertToInteractive',\n",
              "                                                     [key], {});\n",
              "          if (!dataTable) return;\n",
              "\n",
              "          const docLinkHtml = 'Like what you see? Visit the ' +\n",
              "            '<a target=\"_blank\" href=https://colab.research.google.com/notebooks/data_table.ipynb>data table notebook</a>'\n",
              "            + ' to learn more about interactive tables.';\n",
              "          element.innerHTML = '';\n",
              "          dataTable['output_type'] = 'display_data';\n",
              "          await google.colab.output.renderOutput(dataTable, element);\n",
              "          const docLink = document.createElement('div');\n",
              "          docLink.innerHTML = docLinkHtml;\n",
              "          element.appendChild(docLink);\n",
              "        }\n",
              "      </script>\n",
              "    </div>\n",
              "  </div>\n",
              "  "
            ]
          },
          "metadata": {},
          "execution_count": 7
        }
      ]
    },
    {
      "cell_type": "markdown",
      "metadata": {
        "id": "nOlsZKn8Jx4l"
      },
      "source": [
        "4.\tCalcula el % total de valores faltantes y elimina los registros que contengan `NaN`"
      ]
    },
    {
      "cell_type": "code",
      "metadata": {
        "id": "Tb0HKzNmN6hq",
        "colab": {
          "base_uri": "https://localhost:8080/"
        },
        "outputId": "4624f83c-0851-432a-b0d4-a2b3744cbf8c"
      },
      "source": [
        "print(\"El % total de valores faltantes es:\", round(employees.isna().sum().sum()/(employees.isna().sum().sum()+employees.count().sum())*100,2))"
      ],
      "execution_count": null,
      "outputs": [
        {
          "output_type": "stream",
          "name": "stdout",
          "text": [
            "El % total de valores faltantes es: 0.48\n"
          ]
        }
      ]
    },
    {
      "cell_type": "code",
      "source": [
        "employees.dropna(inplace=True)"
      ],
      "metadata": {
        "id": "5WpWl2-7VVdw"
      },
      "execution_count": null,
      "outputs": []
    },
    {
      "cell_type": "markdown",
      "metadata": {
        "id": "ihPS-17tJ4uq"
      },
      "source": [
        "5.\tObtén la cantidad de valores únicos por columna, para responder:\n",
        "*  ¿Cuántos niveles educativos hay?\n",
        "*  ¿Cuántas ciudades participaron en el estudio?\n"
      ]
    },
    {
      "cell_type": "code",
      "metadata": {
        "id": "t0CLaK-vN7O8",
        "colab": {
          "base_uri": "https://localhost:8080/"
        },
        "outputId": "625acb38-9ead-42f7-85bd-21a358beb8da"
      },
      "source": [
        "print(\"La cantidad de niveles educativos existentes es:\",len(employees[\"Education_Level\"].unique()))"
      ],
      "execution_count": null,
      "outputs": [
        {
          "output_type": "stream",
          "name": "stdout",
          "text": [
            "La cantidad de niveles educativos existentes es: 5\n"
          ]
        }
      ]
    },
    {
      "cell_type": "code",
      "source": [
        "print(\"La cantidad de ciudades que participaron en el estudio es:\",len(employees[\"Hometown\"].unique()))"
      ],
      "metadata": {
        "colab": {
          "base_uri": "https://localhost:8080/"
        },
        "id": "MEhF90uPOTvW",
        "outputId": "bdb38743-3f3b-431e-853e-64bfc715c1a7"
      },
      "execution_count": null,
      "outputs": [
        {
          "output_type": "stream",
          "name": "stdout",
          "text": [
            "La cantidad de ciudades que participaron en el estudio es: 5\n"
          ]
        }
      ]
    },
    {
      "cell_type": "markdown",
      "metadata": {
        "id": "Hp6gPle5KEVA"
      },
      "source": [
        "6.\tRealiza el conteo de valores por categoría (`value_counts()`) para las columnas de género y estado civil"
      ]
    },
    {
      "cell_type": "code",
      "metadata": {
        "id": "Hvilo1R0N7yT",
        "colab": {
          "base_uri": "https://localhost:8080/"
        },
        "outputId": "5df25573-f8be-4651-d055-2a06052a5501"
      },
      "source": [
        "employees[\"Gender\"].value_counts()"
      ],
      "execution_count": null,
      "outputs": [
        {
          "output_type": "execute_result",
          "data": {
            "text/plain": [
              "F    3791\n",
              "M    2642\n",
              "Name: Gender, dtype: int64"
            ]
          },
          "metadata": {},
          "execution_count": 12
        }
      ]
    },
    {
      "cell_type": "code",
      "source": [
        "employees[\"Relationship_Status\"].value_counts()"
      ],
      "metadata": {
        "colab": {
          "base_uri": "https://localhost:8080/"
        },
        "id": "UscLstU_RlVW",
        "outputId": "cf29d200-9238-4447-f6b5-985ad3096c3e"
      },
      "execution_count": null,
      "outputs": [
        {
          "output_type": "execute_result",
          "data": {
            "text/plain": [
              "Married    4153\n",
              "Single     2280\n",
              "Name: Relationship_Status, dtype: int64"
            ]
          },
          "metadata": {},
          "execution_count": 13
        }
      ]
    },
    {
      "cell_type": "markdown",
      "metadata": {
        "id": "UmPyrxf9KKnJ"
      },
      "source": [
        "7.\tA través de la función `describe()` responde:\n",
        "*  ¿Cuál es el tiempo máximo de servicio?\n",
        "*  ¿Qué promedio de edad tienen los empleados encuestados?\n",
        "*  ¿Cuál es el valor del 1er cuartil en la escala de pago?\n",
        "\n"
      ]
    },
    {
      "cell_type": "code",
      "source": [
        "employees.describe()"
      ],
      "metadata": {
        "colab": {
          "base_uri": "https://localhost:8080/",
          "height": 300
        },
        "id": "BZSPWroTT26J",
        "outputId": "53dcd596-1b7e-491b-f90b-42cea731d87c"
      },
      "execution_count": null,
      "outputs": [
        {
          "output_type": "execute_result",
          "data": {
            "text/plain": [
              "               Age  Education_Level  Time_of_service  Time_since_promotion  \\\n",
              "count  6433.000000      6433.000000      6433.000000           6433.000000   \n",
              "mean     39.577025         3.189492        13.396704              2.363439   \n",
              "std      13.619576         1.063881        10.379039              1.149997   \n",
              "min      19.000000         1.000000         0.000000              0.000000   \n",
              "25%      27.000000         3.000000         5.000000              1.000000   \n",
              "50%      37.000000         3.000000        10.000000              2.000000   \n",
              "75%      52.000000         4.000000        21.000000              3.000000   \n",
              "max      65.000000         5.000000        43.000000              4.000000   \n",
              "\n",
              "       growth_rate  Travel_Rate   Post_Level    Pay_Scale  Work_Life_balance  \\\n",
              "count  6433.000000  6433.000000  6433.000000  6433.000000        6433.000000   \n",
              "mean     47.066532     0.816104     2.791544     6.003731           2.389709   \n",
              "std      15.743629     0.647836     1.162849     2.053994           1.124412   \n",
              "min      20.000000     0.000000     1.000000     1.000000           1.000000   \n",
              "25%      33.000000     0.000000     2.000000     5.000000           1.000000   \n",
              "50%      47.000000     1.000000     3.000000     6.000000           2.000000   \n",
              "75%      61.000000     1.000000     3.000000     8.000000           3.000000   \n",
              "max      74.000000     2.000000     5.000000    10.000000           5.000000   \n",
              "\n",
              "       Attrition_rate  \n",
              "count     6433.000000  \n",
              "mean         0.189124  \n",
              "std          0.185625  \n",
              "min          0.000000  \n",
              "25%          0.070400  \n",
              "50%          0.142600  \n",
              "75%          0.234700  \n",
              "max          0.995900  "
            ],
            "text/html": [
              "\n",
              "  <div id=\"df-a3e54ab9-b995-4432-9fc9-d37291358956\">\n",
              "    <div class=\"colab-df-container\">\n",
              "      <div>\n",
              "<style scoped>\n",
              "    .dataframe tbody tr th:only-of-type {\n",
              "        vertical-align: middle;\n",
              "    }\n",
              "\n",
              "    .dataframe tbody tr th {\n",
              "        vertical-align: top;\n",
              "    }\n",
              "\n",
              "    .dataframe thead th {\n",
              "        text-align: right;\n",
              "    }\n",
              "</style>\n",
              "<table border=\"1\" class=\"dataframe\">\n",
              "  <thead>\n",
              "    <tr style=\"text-align: right;\">\n",
              "      <th></th>\n",
              "      <th>Age</th>\n",
              "      <th>Education_Level</th>\n",
              "      <th>Time_of_service</th>\n",
              "      <th>Time_since_promotion</th>\n",
              "      <th>growth_rate</th>\n",
              "      <th>Travel_Rate</th>\n",
              "      <th>Post_Level</th>\n",
              "      <th>Pay_Scale</th>\n",
              "      <th>Work_Life_balance</th>\n",
              "      <th>Attrition_rate</th>\n",
              "    </tr>\n",
              "  </thead>\n",
              "  <tbody>\n",
              "    <tr>\n",
              "      <th>count</th>\n",
              "      <td>6433.000000</td>\n",
              "      <td>6433.000000</td>\n",
              "      <td>6433.000000</td>\n",
              "      <td>6433.000000</td>\n",
              "      <td>6433.000000</td>\n",
              "      <td>6433.000000</td>\n",
              "      <td>6433.000000</td>\n",
              "      <td>6433.000000</td>\n",
              "      <td>6433.000000</td>\n",
              "      <td>6433.000000</td>\n",
              "    </tr>\n",
              "    <tr>\n",
              "      <th>mean</th>\n",
              "      <td>39.577025</td>\n",
              "      <td>3.189492</td>\n",
              "      <td>13.396704</td>\n",
              "      <td>2.363439</td>\n",
              "      <td>47.066532</td>\n",
              "      <td>0.816104</td>\n",
              "      <td>2.791544</td>\n",
              "      <td>6.003731</td>\n",
              "      <td>2.389709</td>\n",
              "      <td>0.189124</td>\n",
              "    </tr>\n",
              "    <tr>\n",
              "      <th>std</th>\n",
              "      <td>13.619576</td>\n",
              "      <td>1.063881</td>\n",
              "      <td>10.379039</td>\n",
              "      <td>1.149997</td>\n",
              "      <td>15.743629</td>\n",
              "      <td>0.647836</td>\n",
              "      <td>1.162849</td>\n",
              "      <td>2.053994</td>\n",
              "      <td>1.124412</td>\n",
              "      <td>0.185625</td>\n",
              "    </tr>\n",
              "    <tr>\n",
              "      <th>min</th>\n",
              "      <td>19.000000</td>\n",
              "      <td>1.000000</td>\n",
              "      <td>0.000000</td>\n",
              "      <td>0.000000</td>\n",
              "      <td>20.000000</td>\n",
              "      <td>0.000000</td>\n",
              "      <td>1.000000</td>\n",
              "      <td>1.000000</td>\n",
              "      <td>1.000000</td>\n",
              "      <td>0.000000</td>\n",
              "    </tr>\n",
              "    <tr>\n",
              "      <th>25%</th>\n",
              "      <td>27.000000</td>\n",
              "      <td>3.000000</td>\n",
              "      <td>5.000000</td>\n",
              "      <td>1.000000</td>\n",
              "      <td>33.000000</td>\n",
              "      <td>0.000000</td>\n",
              "      <td>2.000000</td>\n",
              "      <td>5.000000</td>\n",
              "      <td>1.000000</td>\n",
              "      <td>0.070400</td>\n",
              "    </tr>\n",
              "    <tr>\n",
              "      <th>50%</th>\n",
              "      <td>37.000000</td>\n",
              "      <td>3.000000</td>\n",
              "      <td>10.000000</td>\n",
              "      <td>2.000000</td>\n",
              "      <td>47.000000</td>\n",
              "      <td>1.000000</td>\n",
              "      <td>3.000000</td>\n",
              "      <td>6.000000</td>\n",
              "      <td>2.000000</td>\n",
              "      <td>0.142600</td>\n",
              "    </tr>\n",
              "    <tr>\n",
              "      <th>75%</th>\n",
              "      <td>52.000000</td>\n",
              "      <td>4.000000</td>\n",
              "      <td>21.000000</td>\n",
              "      <td>3.000000</td>\n",
              "      <td>61.000000</td>\n",
              "      <td>1.000000</td>\n",
              "      <td>3.000000</td>\n",
              "      <td>8.000000</td>\n",
              "      <td>3.000000</td>\n",
              "      <td>0.234700</td>\n",
              "    </tr>\n",
              "    <tr>\n",
              "      <th>max</th>\n",
              "      <td>65.000000</td>\n",
              "      <td>5.000000</td>\n",
              "      <td>43.000000</td>\n",
              "      <td>4.000000</td>\n",
              "      <td>74.000000</td>\n",
              "      <td>2.000000</td>\n",
              "      <td>5.000000</td>\n",
              "      <td>10.000000</td>\n",
              "      <td>5.000000</td>\n",
              "      <td>0.995900</td>\n",
              "    </tr>\n",
              "  </tbody>\n",
              "</table>\n",
              "</div>\n",
              "      <button class=\"colab-df-convert\" onclick=\"convertToInteractive('df-a3e54ab9-b995-4432-9fc9-d37291358956')\"\n",
              "              title=\"Convert this dataframe to an interactive table.\"\n",
              "              style=\"display:none;\">\n",
              "        \n",
              "  <svg xmlns=\"http://www.w3.org/2000/svg\" height=\"24px\"viewBox=\"0 0 24 24\"\n",
              "       width=\"24px\">\n",
              "    <path d=\"M0 0h24v24H0V0z\" fill=\"none\"/>\n",
              "    <path d=\"M18.56 5.44l.94 2.06.94-2.06 2.06-.94-2.06-.94-.94-2.06-.94 2.06-2.06.94zm-11 1L8.5 8.5l.94-2.06 2.06-.94-2.06-.94L8.5 2.5l-.94 2.06-2.06.94zm10 10l.94 2.06.94-2.06 2.06-.94-2.06-.94-.94-2.06-.94 2.06-2.06.94z\"/><path d=\"M17.41 7.96l-1.37-1.37c-.4-.4-.92-.59-1.43-.59-.52 0-1.04.2-1.43.59L10.3 9.45l-7.72 7.72c-.78.78-.78 2.05 0 2.83L4 21.41c.39.39.9.59 1.41.59.51 0 1.02-.2 1.41-.59l7.78-7.78 2.81-2.81c.8-.78.8-2.07 0-2.86zM5.41 20L4 18.59l7.72-7.72 1.47 1.35L5.41 20z\"/>\n",
              "  </svg>\n",
              "      </button>\n",
              "      \n",
              "  <style>\n",
              "    .colab-df-container {\n",
              "      display:flex;\n",
              "      flex-wrap:wrap;\n",
              "      gap: 12px;\n",
              "    }\n",
              "\n",
              "    .colab-df-convert {\n",
              "      background-color: #E8F0FE;\n",
              "      border: none;\n",
              "      border-radius: 50%;\n",
              "      cursor: pointer;\n",
              "      display: none;\n",
              "      fill: #1967D2;\n",
              "      height: 32px;\n",
              "      padding: 0 0 0 0;\n",
              "      width: 32px;\n",
              "    }\n",
              "\n",
              "    .colab-df-convert:hover {\n",
              "      background-color: #E2EBFA;\n",
              "      box-shadow: 0px 1px 2px rgba(60, 64, 67, 0.3), 0px 1px 3px 1px rgba(60, 64, 67, 0.15);\n",
              "      fill: #174EA6;\n",
              "    }\n",
              "\n",
              "    [theme=dark] .colab-df-convert {\n",
              "      background-color: #3B4455;\n",
              "      fill: #D2E3FC;\n",
              "    }\n",
              "\n",
              "    [theme=dark] .colab-df-convert:hover {\n",
              "      background-color: #434B5C;\n",
              "      box-shadow: 0px 1px 3px 1px rgba(0, 0, 0, 0.15);\n",
              "      filter: drop-shadow(0px 1px 2px rgba(0, 0, 0, 0.3));\n",
              "      fill: #FFFFFF;\n",
              "    }\n",
              "  </style>\n",
              "\n",
              "      <script>\n",
              "        const buttonEl =\n",
              "          document.querySelector('#df-a3e54ab9-b995-4432-9fc9-d37291358956 button.colab-df-convert');\n",
              "        buttonEl.style.display =\n",
              "          google.colab.kernel.accessAllowed ? 'block' : 'none';\n",
              "\n",
              "        async function convertToInteractive(key) {\n",
              "          const element = document.querySelector('#df-a3e54ab9-b995-4432-9fc9-d37291358956');\n",
              "          const dataTable =\n",
              "            await google.colab.kernel.invokeFunction('convertToInteractive',\n",
              "                                                     [key], {});\n",
              "          if (!dataTable) return;\n",
              "\n",
              "          const docLinkHtml = 'Like what you see? Visit the ' +\n",
              "            '<a target=\"_blank\" href=https://colab.research.google.com/notebooks/data_table.ipynb>data table notebook</a>'\n",
              "            + ' to learn more about interactive tables.';\n",
              "          element.innerHTML = '';\n",
              "          dataTable['output_type'] = 'display_data';\n",
              "          await google.colab.output.renderOutput(dataTable, element);\n",
              "          const docLink = document.createElement('div');\n",
              "          docLink.innerHTML = docLinkHtml;\n",
              "          element.appendChild(docLink);\n",
              "        }\n",
              "      </script>\n",
              "    </div>\n",
              "  </div>\n",
              "  "
            ]
          },
          "metadata": {},
          "execution_count": 14
        }
      ]
    },
    {
      "cell_type": "code",
      "source": [
        "print(\"El tiempo máximo de servicio es:\", employees.describe().loc[\"max\",\"Time_of_service\"])"
      ],
      "metadata": {
        "colab": {
          "base_uri": "https://localhost:8080/"
        },
        "id": "4KbvlnCwUDP_",
        "outputId": "91586f2a-3042-4bd5-ca3f-e64c0c7044b6"
      },
      "execution_count": null,
      "outputs": [
        {
          "output_type": "stream",
          "name": "stdout",
          "text": [
            "El tiempo máximo de servicio es: 43.0\n"
          ]
        }
      ]
    },
    {
      "cell_type": "code",
      "source": [
        "print(\"La edad promedio de los empleados encuestados es de\", round(employees.describe().loc[\"mean\",\"Age\"],2),\"años.\")"
      ],
      "metadata": {
        "colab": {
          "base_uri": "https://localhost:8080/"
        },
        "id": "r4tx0KXSUhB4",
        "outputId": "2d7300ff-9b5c-4fce-aaa5-8af98b4da31b"
      },
      "execution_count": null,
      "outputs": [
        {
          "output_type": "stream",
          "name": "stdout",
          "text": [
            "La edad promedio de los empleados encuestados es de 39.58 años.\n"
          ]
        }
      ]
    },
    {
      "cell_type": "code",
      "source": [
        "print(\"El valor del primer cuartil en la escala de pagos es de\", employees.describe().loc[\"25%\",\"Pay_Scale\"])"
      ],
      "metadata": {
        "colab": {
          "base_uri": "https://localhost:8080/"
        },
        "id": "Eqg02fmIVecm",
        "outputId": "264f7989-21ab-494d-c716-4ae2234b72ec"
      },
      "execution_count": null,
      "outputs": [
        {
          "output_type": "stream",
          "name": "stdout",
          "text": [
            "El valor del primer cuartil en la escala de pagos es de 5.0\n"
          ]
        }
      ]
    },
    {
      "cell_type": "markdown",
      "metadata": {
        "id": "YIEB2G4pKfQS"
      },
      "source": [
        "8.\tElabora en un histograma con las edades para identificar el rango más común."
      ]
    },
    {
      "cell_type": "code",
      "metadata": {
        "id": "_swev4kCN8i7",
        "colab": {
          "base_uri": "https://localhost:8080/",
          "height": 296
        },
        "outputId": "26aa7bce-39f7-4094-cb44-04c7f5c2c2fd"
      },
      "source": [
        "sns.histplot(x=employees[\"Age\"], bins=10)\n",
        "print(\"El rango de edad más común es alrededor de los 20-25 años\")"
      ],
      "execution_count": null,
      "outputs": [
        {
          "output_type": "stream",
          "name": "stdout",
          "text": [
            "El rango de edad más común es alrededor de los 20-25 años\n"
          ]
        },
        {
          "output_type": "display_data",
          "data": {
            "text/plain": [
              "<Figure size 432x288 with 1 Axes>"
            ],
            "image/png": "[encoded data removed]"
          },
          "metadata": {
            "needs_background": "light"
          }
        }
      ]
    },
    {
      "cell_type": "markdown",
      "metadata": {
        "id": "3bqgvGGeKirp"
      },
      "source": [
        "9.\tConstruye un gráfico de frecuencias (o conteo) para las unidades funcionales (`Unit`). ¿En qué unidad hay mayor número de empleados?"
      ]
    },
    {
      "cell_type": "code",
      "metadata": {
        "id": "EK1IKLX4N9An",
        "colab": {
          "base_uri": "https://localhost:8080/",
          "height": 440
        },
        "outputId": "9cb36589-6a2d-436b-dc9b-afc2d1a089c9"
      },
      "source": [
        "sns.countplot(data = employees, x=employees[\"Unit\"])\n",
        "plt.xticks(rotation = 90)\n",
        "print(\"La unidad en la que mayor cantidad de empleados es IT.\")"
      ],
      "execution_count": null,
      "outputs": [
        {
          "output_type": "stream",
          "name": "stdout",
          "text": [
            "La unidad en la que mayor cantidad de empleados es IT.\n"
          ]
        },
        {
          "output_type": "display_data",
          "data": {
            "text/plain": [
              "<Figure size 432x288 with 1 Axes>"
            ],
            "image/png": "[encoded data removed]"
          },
          "metadata": {
            "needs_background": "light"
          }
        }
      ]
    },
    {
      "cell_type": "markdown",
      "metadata": {
        "id": "TaP9NbRFKmtY"
      },
      "source": [
        "10.\tRealiza una agrupación por ciudad, con el promedio de todas las columnas y almacena el resultado en un nuevo dataframe (`employees_by_hometown`)."
      ]
    },
    {
      "cell_type": "code",
      "metadata": {
        "id": "j9geOA6NN9im",
        "colab": {
          "base_uri": "https://localhost:8080/",
          "height": 238
        },
        "outputId": "7b51c44c-305c-40ce-d331-ded9b5cd4614"
      },
      "source": [
        "employees_by_hometown = employees.groupby(\"Hometown\").mean()\n",
        "employees_by_hometown"
      ],
      "execution_count": null,
      "outputs": [
        {
          "output_type": "execute_result",
          "data": {
            "text/plain": [
              "                   Age  Education_Level  Time_of_service  \\\n",
              "Hometown                                                   \n",
              "Clinton      38.968992         3.160853        12.870155   \n",
              "Franklin     40.029496         3.193525        13.730935   \n",
              "Lebanon      40.024109         3.225367        13.825472   \n",
              "Springfield  39.007500         3.157500        13.003125   \n",
              "Washington   39.324828         3.181551        13.022571   \n",
              "\n",
              "             Time_since_promotion  growth_rate  Travel_Rate  Post_Level  \\\n",
              "Hometown                                                                  \n",
              "Clinton                  2.286822    47.544574     0.868217    2.786822   \n",
              "Franklin                 2.367626    47.001439     0.818705    2.774820   \n",
              "Lebanon                  2.368973    46.539832     0.798742    2.790356   \n",
              "Springfield              2.368125    47.037500     0.822500    2.803750   \n",
              "Washington               2.378803    47.945044     0.808636    2.799804   \n",
              "\n",
              "             Pay_Scale  Work_Life_balance  Attrition_rate  \n",
              "Hometown                                                   \n",
              "Clinton       6.046512           2.443798        0.186583  \n",
              "Franklin      6.008633           2.405755        0.187646  \n",
              "Lebanon       5.984801           2.370021        0.185662  \n",
              "Springfield   6.068125           2.396875        0.196218  \n",
              "Washington    5.909715           2.366045        0.187768  "
            ],
            "text/html": [
              "\n",
              "  <div id=\"df-e005349d-38b9-4444-858d-5d3dbcddd361\">\n",
              "    <div class=\"colab-df-container\">\n",
              "      <div>\n",
              "<style scoped>\n",
              "    .dataframe tbody tr th:only-of-type {\n",
              "        vertical-align: middle;\n",
              "    }\n",
              "\n",
              "    .dataframe tbody tr th {\n",
              "        vertical-align: top;\n",
              "    }\n",
              "\n",
              "    .dataframe thead th {\n",
              "        text-align: right;\n",
              "    }\n",
              "</style>\n",
              "<table border=\"1\" class=\"dataframe\">\n",
              "  <thead>\n",
              "    <tr style=\"text-align: right;\">\n",
              "      <th></th>\n",
              "      <th>Age</th>\n",
              "      <th>Education_Level</th>\n",
              "      <th>Time_of_service</th>\n",
              "      <th>Time_since_promotion</th>\n",
              "      <th>growth_rate</th>\n",
              "      <th>Travel_Rate</th>\n",
              "      <th>Post_Level</th>\n",
              "      <th>Pay_Scale</th>\n",
              "      <th>Work_Life_balance</th>\n",
              "      <th>Attrition_rate</th>\n",
              "    </tr>\n",
              "    <tr>\n",
              "      <th>Hometown</th>\n",
              "      <th></th>\n",
              "      <th></th>\n",
              "      <th></th>\n",
              "      <th></th>\n",
              "      <th></th>\n",
              "      <th></th>\n",
              "      <th></th>\n",
              "      <th></th>\n",
              "      <th></th>\n",
              "      <th></th>\n",
              "    </tr>\n",
              "  </thead>\n",
              "  <tbody>\n",
              "    <tr>\n",
              "      <th>Clinton</th>\n",
              "      <td>38.968992</td>\n",
              "      <td>3.160853</td>\n",
              "      <td>12.870155</td>\n",
              "      <td>2.286822</td>\n",
              "      <td>47.544574</td>\n",
              "      <td>0.868217</td>\n",
              "      <td>2.786822</td>\n",
              "      <td>6.046512</td>\n",
              "      <td>2.443798</td>\n",
              "      <td>0.186583</td>\n",
              "    </tr>\n",
              "    <tr>\n",
              "      <th>Franklin</th>\n",
              "      <td>40.029496</td>\n",
              "      <td>3.193525</td>\n",
              "      <td>13.730935</td>\n",
              "      <td>2.367626</td>\n",
              "      <td>47.001439</td>\n",
              "      <td>0.818705</td>\n",
              "      <td>2.774820</td>\n",
              "      <td>6.008633</td>\n",
              "      <td>2.405755</td>\n",
              "      <td>0.187646</td>\n",
              "    </tr>\n",
              "    <tr>\n",
              "      <th>Lebanon</th>\n",
              "      <td>40.024109</td>\n",
              "      <td>3.225367</td>\n",
              "      <td>13.825472</td>\n",
              "      <td>2.368973</td>\n",
              "      <td>46.539832</td>\n",
              "      <td>0.798742</td>\n",
              "      <td>2.790356</td>\n",
              "      <td>5.984801</td>\n",
              "      <td>2.370021</td>\n",
              "      <td>0.185662</td>\n",
              "    </tr>\n",
              "    <tr>\n",
              "      <th>Springfield</th>\n",
              "      <td>39.007500</td>\n",
              "      <td>3.157500</td>\n",
              "      <td>13.003125</td>\n",
              "      <td>2.368125</td>\n",
              "      <td>47.037500</td>\n",
              "      <td>0.822500</td>\n",
              "      <td>2.803750</td>\n",
              "      <td>6.068125</td>\n",
              "      <td>2.396875</td>\n",
              "      <td>0.196218</td>\n",
              "    </tr>\n",
              "    <tr>\n",
              "      <th>Washington</th>\n",
              "      <td>39.324828</td>\n",
              "      <td>3.181551</td>\n",
              "      <td>13.022571</td>\n",
              "      <td>2.378803</td>\n",
              "      <td>47.945044</td>\n",
              "      <td>0.808636</td>\n",
              "      <td>2.799804</td>\n",
              "      <td>5.909715</td>\n",
              "      <td>2.366045</td>\n",
              "      <td>0.187768</td>\n",
              "    </tr>\n",
              "  </tbody>\n",
              "</table>\n",
              "</div>\n",
              "      <button class=\"colab-df-convert\" onclick=\"convertToInteractive('df-e005349d-38b9-4444-858d-5d3dbcddd361')\"\n",
              "              title=\"Convert this dataframe to an interactive table.\"\n",
              "              style=\"display:none;\">\n",
              "        \n",
              "  <svg xmlns=\"http://www.w3.org/2000/svg\" height=\"24px\"viewBox=\"0 0 24 24\"\n",
              "       width=\"24px\">\n",
              "    <path d=\"M0 0h24v24H0V0z\" fill=\"none\"/>\n",
              "    <path d=\"M18.56 5.44l.94 2.06.94-2.06 2.06-.94-2.06-.94-.94-2.06-.94 2.06-2.06.94zm-11 1L8.5 8.5l.94-2.06 2.06-.94-2.06-.94L8.5 2.5l-.94 2.06-2.06.94zm10 10l.94 2.06.94-2.06 2.06-.94-2.06-.94-.94-2.06-.94 2.06-2.06.94z\"/><path d=\"M17.41 7.96l-1.37-1.37c-.4-.4-.92-.59-1.43-.59-.52 0-1.04.2-1.43.59L10.3 9.45l-7.72 7.72c-.78.78-.78 2.05 0 2.83L4 21.41c.39.39.9.59 1.41.59.51 0 1.02-.2 1.41-.59l7.78-7.78 2.81-2.81c.8-.78.8-2.07 0-2.86zM5.41 20L4 18.59l7.72-7.72 1.47 1.35L5.41 20z\"/>\n",
              "  </svg>\n",
              "      </button>\n",
              "      \n",
              "  <style>\n",
              "    .colab-df-container {\n",
              "      display:flex;\n",
              "      flex-wrap:wrap;\n",
              "      gap: 12px;\n",
              "    }\n",
              "\n",
              "    .colab-df-convert {\n",
              "      background-color: #E8F0FE;\n",
              "      border: none;\n",
              "      border-radius: 50%;\n",
              "      cursor: pointer;\n",
              "      display: none;\n",
              "      fill: #1967D2;\n",
              "      height: 32px;\n",
              "      padding: 0 0 0 0;\n",
              "      width: 32px;\n",
              "    }\n",
              "\n",
              "    .colab-df-convert:hover {\n",
              "      background-color: #E2EBFA;\n",
              "      box-shadow: 0px 1px 2px rgba(60, 64, 67, 0.3), 0px 1px 3px 1px rgba(60, 64, 67, 0.15);\n",
              "      fill: #174EA6;\n",
              "    }\n",
              "\n",
              "    [theme=dark] .colab-df-convert {\n",
              "      background-color: #3B4455;\n",
              "      fill: #D2E3FC;\n",
              "    }\n",
              "\n",
              "    [theme=dark] .colab-df-convert:hover {\n",
              "      background-color: #434B5C;\n",
              "      box-shadow: 0px 1px 3px 1px rgba(0, 0, 0, 0.15);\n",
              "      filter: drop-shadow(0px 1px 2px rgba(0, 0, 0, 0.3));\n",
              "      fill: #FFFFFF;\n",
              "    }\n",
              "  </style>\n",
              "\n",
              "      <script>\n",
              "        const buttonEl =\n",
              "          document.querySelector('#df-e005349d-38b9-4444-858d-5d3dbcddd361 button.colab-df-convert');\n",
              "        buttonEl.style.display =\n",
              "          google.colab.kernel.accessAllowed ? 'block' : 'none';\n",
              "\n",
              "        async function convertToInteractive(key) {\n",
              "          const element = document.querySelector('#df-e005349d-38b9-4444-858d-5d3dbcddd361');\n",
              "          const dataTable =\n",
              "            await google.colab.kernel.invokeFunction('convertToInteractive',\n",
              "                                                     [key], {});\n",
              "          if (!dataTable) return;\n",
              "\n",
              "          const docLinkHtml = 'Like what you see? Visit the ' +\n",
              "            '<a target=\"_blank\" href=https://colab.research.google.com/notebooks/data_table.ipynb>data table notebook</a>'\n",
              "            + ' to learn more about interactive tables.';\n",
              "          element.innerHTML = '';\n",
              "          dataTable['output_type'] = 'display_data';\n",
              "          await google.colab.output.renderOutput(dataTable, element);\n",
              "          const docLink = document.createElement('div');\n",
              "          docLink.innerHTML = docLinkHtml;\n",
              "          element.appendChild(docLink);\n",
              "        }\n",
              "      </script>\n",
              "    </div>\n",
              "  </div>\n",
              "  "
            ]
          },
          "metadata": {},
          "execution_count": 20
        }
      ]
    },
    {
      "cell_type": "markdown",
      "metadata": {
        "id": "fpQeusJcRg-A"
      },
      "source": [
        "11.\tVisualiza el dataframe obtenido en una única gráfica (usando Pandas: `employees_by_hometown.plot()`). Como no es legible por la diferencia de escalas en las columnas, sepáralas en subplots. ¿Qué ciudad tiene el mayor índice de deserción? Observa el resto de sus variables"
      ]
    },
    {
      "cell_type": "code",
      "metadata": {
        "id": "IlDu7cBIRk60",
        "colab": {
          "base_uri": "https://localhost:8080/",
          "height": 299
        },
        "outputId": "2b51ed56-ab83-4202-850d-f741e56a8e44"
      },
      "source": [
        "employees_by_hometown.plot()"
      ],
      "execution_count": null,
      "outputs": [
        {
          "output_type": "execute_result",
          "data": {
            "text/plain": [
              "<matplotlib.axes._subplots.AxesSubplot at 0x7f3c9ffc74d0>"
            ]
          },
          "metadata": {},
          "execution_count": 21
        },
        {
          "output_type": "display_data",
          "data": {
            "text/plain": [
              "<Figure size 432x288 with 1 Axes>"
            ],
            "image/png": "[encoded data removed]"
          },
          "metadata": {
            "needs_background": "light"
          }
        }
      ]
    },
    {
      "cell_type": "code",
      "source": [
        "employees_by_hometown.loc[:,\"Age\":\"Attrition_rate\"].plot(subplots=True, layout=(2,5), figsize=(25,10), rot=45)"
      ],
      "metadata": {
        "colab": {
          "base_uri": "https://localhost:8080/",
          "height": 837
        },
        "id": "WQGWcH5E1Ptz",
        "outputId": "a4f28570-eab0-4519-991b-839cee9045f0"
      },
      "execution_count": null,
      "outputs": [
        {
          "output_type": "execute_result",
          "data": {
            "text/plain": [
              "array([[<matplotlib.axes._subplots.AxesSubplot object at 0x7f3c9fea0290>,\n",
              "        <matplotlib.axes._subplots.AxesSubplot object at 0x7f3c9fe58fd0>,\n",
              "        <matplotlib.axes._subplots.AxesSubplot object at 0x7f3c9fe86dd0>,\n",
              "        <matplotlib.axes._subplots.AxesSubplot object at 0x7f3c9fe4d110>,\n",
              "        <matplotlib.axes._subplots.AxesSubplot object at 0x7f3c9fe05450>],\n",
              "       [<matplotlib.axes._subplots.AxesSubplot object at 0x7f3c9fdbf790>,\n",
              "        <matplotlib.axes._subplots.AxesSubplot object at 0x7f3c9fd81f90>,\n",
              "        <matplotlib.axes._subplots.AxesSubplot object at 0x7f3c9fd2ee10>,\n",
              "        <matplotlib.axes._subplots.AxesSubplot object at 0x7f3c9fd46350>,\n",
              "        <matplotlib.axes._subplots.AxesSubplot object at 0x7f3c9fcff710>]],\n",
              "      dtype=object)"
            ]
          },
          "metadata": {},
          "execution_count": 22
        },
        {
          "output_type": "display_data",
          "data": {
            "text/plain": [
              "<Figure size 1800x720 with 10 Axes>"
            ],
            "image/png": "[encoded data removed]"
          },
          "metadata": {
            "needs_background": "light"
          }
        }
      ]
    },
    {
      "cell_type": "code",
      "source": [
        "print(\"La ciudad que tiene el mayor índice de deserción es Springfield\")"
      ],
      "metadata": {
        "colab": {
          "base_uri": "https://localhost:8080/"
        },
        "id": "0QtrroKA4Gjq",
        "outputId": "c30a004d-d0d1-4470-96ff-a9411a65607a"
      },
      "execution_count": null,
      "outputs": [
        {
          "output_type": "stream",
          "name": "stdout",
          "text": [
            "La ciudad que tiene el mayor índice de deserción es Springfield\n"
          ]
        }
      ]
    },
    {
      "cell_type": "markdown",
      "metadata": {
        "id": "DB273mmtKwII"
      },
      "source": [
        "12.\tUtiliza el dataframe original (sin los NaN) para analizar el impacto del nivel educativo en la escala de pago. Para ello construye un box plot que considere estas dos variables."
      ]
    },
    {
      "cell_type": "code",
      "metadata": {
        "id": "Wk9WdN12N-QB",
        "colab": {
          "base_uri": "https://localhost:8080/",
          "height": 493
        },
        "outputId": "82da68c8-acde-42bc-e973-bf80b97c1425"
      },
      "source": [
        "employees.boxplot(column=\"Pay_Scale\", by=\"Education_Level\", figsize=(10,6))"
      ],
      "execution_count": null,
      "outputs": [
        {
          "output_type": "stream",
          "name": "stderr",
          "text": [
            "/usr/local/lib/python3.7/dist-packages/matplotlib/cbook/__init__.py:1376: VisibleDeprecationWarning: Creating an ndarray from ragged nested sequences (which is a list-or-tuple of lists-or-tuples-or ndarrays with different lengths or shapes) is deprecated. If you meant to do this, you must specify 'dtype=object' when creating the ndarray.\n",
            "  X = np.atleast_1d(X.T if isinstance(X, np.ndarray) else np.asarray(X))\n"
          ]
        },
        {
          "output_type": "execute_result",
          "data": {
            "text/plain": [
              "<matplotlib.axes._subplots.AxesSubplot at 0x7f3c9fa82c90>"
            ]
          },
          "metadata": {},
          "execution_count": 24
        },
        {
          "output_type": "display_data",
          "data": {
            "text/plain": [
              "<Figure size 720x432 with 1 Axes>"
            ],
            "image/png": "[encoded data removed]"
          },
          "metadata": {
            "needs_background": "light"
          }
        }
      ]
    },
    {
      "cell_type": "markdown",
      "metadata": {
        "id": "RPbrYdeZKzuP"
      },
      "source": [
        "13.\tElabora dos scatter plots (del dataframe original sin NaN) para determinar si hay correlación entre:\n",
        "*   Edad y Tasa de deserción\n",
        "*   Tiempo de servicio y Tasa de deserción"
      ]
    },
    {
      "cell_type": "code",
      "metadata": {
        "id": "YGv3iQWPN-xE",
        "colab": {
          "base_uri": "https://localhost:8080/",
          "height": 282
        },
        "outputId": "19e5c58f-fc36-469a-a30b-32890acece6a"
      },
      "source": [
        "plt.scatter(x=employees[\"Age\"],y=employees[\"Attrition_rate\"])\n",
        "print(\"No hay correlación entre la Edad y la tasa de deserción\")"
      ],
      "execution_count": null,
      "outputs": [
        {
          "output_type": "stream",
          "name": "stdout",
          "text": [
            "No hay correlación entre la Edad y la tasa de deserción\n"
          ]
        },
        {
          "output_type": "display_data",
          "data": {
            "text/plain": [
              "<Figure size 432x288 with 1 Axes>"
            ],
            "image/png": "[encoded data removed]"
          },
          "metadata": {
            "needs_background": "light"
          }
        }
      ]
    },
    {
      "cell_type": "code",
      "source": [
        "plt.scatter(x=employees[\"Time_of_service\"],y=employees[\"Attrition_rate\"])\n",
        "print(\"No hay correlación entre el tiempo de servicio y la tasa de deserción\")"
      ],
      "metadata": {
        "colab": {
          "base_uri": "https://localhost:8080/",
          "height": 282
        },
        "id": "YUETFIyfeGZJ",
        "outputId": "decd9d19-8a0e-4b4e-ed49-c5c36356c19c"
      },
      "execution_count": null,
      "outputs": [
        {
          "output_type": "stream",
          "name": "stdout",
          "text": [
            "No hay correlación entre el tiempo de servicio y la tasa de deserción\n"
          ]
        },
        {
          "output_type": "display_data",
          "data": {
            "text/plain": [
              "<Figure size 432x288 with 1 Axes>"
            ],
            "image/png": "[encoded data removed]"
          },
          "metadata": {
            "needs_background": "light"
          }
        }
      ]
    },
    {
      "cell_type": "markdown",
      "source": [
        "14.\tCrea un heatmap  (del dataframe original sin NaN) que muestre la correlación entre todos los pares de variables numéricas."
      ],
      "metadata": {
        "id": "_E164q8PfwtT"
      }
    },
    {
      "cell_type": "code",
      "metadata": {
        "id": "lteHebSrN_R1",
        "colab": {
          "base_uri": "https://localhost:8080/",
          "height": 388
        },
        "outputId": "4aea3623-721e-47c4-be75-05eb2867339c"
      },
      "source": [
        "sns.heatmap(round(employees.corr(),2),annot=True)"
      ],
      "execution_count": null,
      "outputs": [
        {
          "output_type": "execute_result",
          "data": {
            "text/plain": [
              "<matplotlib.axes._subplots.AxesSubplot at 0x7f3c9d276f50>"
            ]
          },
          "metadata": {},
          "execution_count": 30
        },
        {
          "output_type": "display_data",
          "data": {
            "text/plain": [
              "<Figure size 432x288 with 2 Axes>"
            ],
            "image/png": "[encoded data removed]"
          },
          "metadata": {
            "needs_background": "light"
          }
        }
      ]
    }
  ]
}